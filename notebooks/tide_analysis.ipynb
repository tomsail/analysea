{
 "cells": [
  {
   "cell_type": "markdown",
   "id": "0",
   "metadata": {},
   "source": [
    "# Tide Analysis demonstration\n",
    "\n",
    "See the `analysea` [README](https://github.com/tomsail/analysea) for more information\n"
   ]
  },
  {
   "cell_type": "code",
   "execution_count": null,
   "id": "1",
   "metadata": {},
   "outputs": [],
   "source": [
    "from analysea import TideAnalysisResults\n",
    "import pandas as pd\n",
    "import numpy as np"
   ]
  },
  {
   "cell_type": "markdown",
   "id": "2",
   "metadata": {},
   "source": [
    "## load test case : Aberdeen"
   ]
  },
  {
   "cell_type": "code",
   "execution_count": null,
   "id": "3",
   "metadata": {},
   "outputs": [],
   "source": [
    "_ioc_station = \"abed\" \n",
    "df = pd.read_parquet(f\"../tests/data/{_ioc_station}.parquet\")\n",
    "df.describe()"
   ]
  },
  {
   "cell_type": "code",
   "execution_count": null,
   "id": "4",
   "metadata": {},
   "outputs": [],
   "source": [
    "df.plot()"
   ]
  },
  {
   "cell_type": "markdown",
   "id": "5",
   "metadata": {},
   "source": [
    "## Live detide and reconstruct"
   ]
  },
  {
   "cell_type": "code",
   "execution_count": null,
   "id": "6",
   "metadata": {},
   "outputs": [],
   "source": [
    "opts = {'conf_int': 'linear',\n",
    "        'constit' : 'auto',\n",
    "        'method' : 'ols', # ols is faster and good for missing data (Ponchaut et al., 2001)\n",
    "        'order_constit' : 'frequency',\n",
    "        'Rayleigh_min' : 0.97,\n",
    "        'lat': 57.14,\n",
    "        'verbose' : True,\n",
    "} # careful if there is only one Nan parameter, the analysis crashes"
   ]
  },
  {
   "cell_type": "code",
   "execution_count": null,
   "id": "7",
   "metadata": {},
   "outputs": [],
   "source": [
    "from analysea.tide import tide_analysis\n",
    "ta = tide_analysis(df[\"bub\"], resample_detide=True, **opts) "
   ]
  },
  {
   "cell_type": "markdown",
   "id": "8",
   "metadata": {},
   "source": [
    "Attention: Resampling allows faster analysis but it omits data\n",
    "\n",
    "see `tide_analysis` function documentation to know more about resampling options (by default deactivated)"
   ]
  },
  {
   "cell_type": "code",
   "execution_count": null,
   "id": "9",
   "metadata": {},
   "outputs": [],
   "source": [
    "ta.surge.plot()"
   ]
  },
  {
   "cell_type": "markdown",
   "id": "10",
   "metadata": {},
   "source": [
    "# Analyse tide consituents"
   ]
  },
  {
   "cell_type": "code",
   "execution_count": null,
   "id": "11",
   "metadata": {},
   "outputs": [],
   "source": [
    "# main constituents \n",
    "ASTRO_PLOT = [ \"M2\", \"S2\", \"N2\", \"O1\", \"K2\", \"K1\", \"NU2\", \"Q1\", \"L2\", \n",
    "              \"P1\", \"2N2\", \"M4\", \"MS4\", \"MM\", \"MU2\", \"SSA\", \"LDA2\", \"MF\", \"MSM\", \"MN4\"]"
   ]
  },
  {
   "cell_type": "markdown",
   "id": "12",
   "metadata": {},
   "source": [
    "constituents found by Utide: "
   ]
  },
  {
   "cell_type": "code",
   "execution_count": null,
   "id": "13",
   "metadata": {},
   "outputs": [],
   "source": [
    "ta.coefs[\"name\"]"
   ]
  },
  {
   "cell_type": "code",
   "execution_count": null,
   "id": "14",
   "metadata": {},
   "outputs": [],
   "source": [
    "def subset_tidal_analysis(ta: TideAnalysisResults, astro_coefs: list[str]\n",
    "                          )-> np.array:\n",
    "    def get_tidal_const_index(utide_list: list[str], astro_coefs: list[str]):\n",
    "        index = []\n",
    "        for ast in astro_coefs : \n",
    "            try :\n",
    "                index.extend([utide_list.index(ast)])\n",
    "            except ValueError as err: \n",
    "                index.append(float('nan'))\n",
    "                print('[WARN]',err)\n",
    "        return index\n",
    "\n",
    "    astro_coefs = [ast.upper() for ast in astro_coefs]\n",
    "    if isinstance(ta.coefs, list):\n",
    "        amps_coef = []\n",
    "        phas_coef = []\n",
    "        for iy, year in enumerate(ta.years):\n",
    "            utide_list = list(ta.coefs[iy][\"name\"])\n",
    "            index = get_tidal_const_index(utide_list, astro_coefs)\n",
    "            amps_coef.append(ta.coefs[iy]['A'][index])\n",
    "            phas_coef.append(ta.coefs[iy]['g'][index])\n",
    "        return amps_coef, phas_coef\n",
    "\n",
    "    elif isinstance(ta.coefs, dict):\n",
    "        utide_list = list(ta.coefs[\"name\"])\n",
    "        index = get_tidal_const_index(utide_list, astro_coefs)\n",
    "        amps_coef = ta.coefs['A'][index]\n",
    "        phas_coef = ta.coefs['g'][index]\n",
    "        return amps_coef, phas_coef\n",
    "    else: \n",
    "        raise ValueError(f\"Unknown format {ta.coefs}\")\n",
    "\n",
    "amps, phas = subset_tidal_analysis(ta, ASTRO_PLOT)"
   ]
  },
  {
   "cell_type": "code",
   "execution_count": null,
   "id": "15",
   "metadata": {},
   "outputs": [],
   "source": [
    "pd_coefs = pd.DataFrame({\"constituents\": ASTRO_PLOT, \"Amplitude all\": amps, \"Phase all\": phas})\n",
    "pd_coefs.plot.bar(x=\"constituents\", y=\"Amplitude all\")\n",
    "pd_coefs.plot.bar(x=\"constituents\", y=\"Phase all\")"
   ]
  },
  {
   "cell_type": "markdown",
   "id": "16",
   "metadata": {},
   "source": [
    "## compare with multiyear tide analysis"
   ]
  },
  {
   "cell_type": "code",
   "execution_count": null,
   "id": "17",
   "metadata": {},
   "outputs": [],
   "source": [
    "from analysea.tide import yearly_tide_analysis\n",
    "ta_multi = yearly_tide_analysis(df[\"bub\"], resample_detide=True, **opts) "
   ]
  },
  {
   "cell_type": "code",
   "execution_count": null,
   "id": "18",
   "metadata": {},
   "outputs": [],
   "source": [
    "ta_multi.years"
   ]
  },
  {
   "cell_type": "code",
   "execution_count": null,
   "id": "19",
   "metadata": {},
   "outputs": [],
   "source": [
    "amps_multi, phas_multi = subset_tidal_analysis(ta_multi, ASTRO_PLOT)\n",
    "pd_coefs_multi = pd.DataFrame()\n",
    "for iy, year in enumerate(ta_multi.years):\n",
    "    pd_coefs_ = pd.DataFrame({\n",
    "        f\"Amplitude {year}\": amps_multi[iy], \n",
    "        f\"Phase {year}\": phas_multi[iy]})\n",
    "    pd_coefs_multi = pd.concat([pd_coefs_multi, pd_coefs_], axis=1)\n",
    "\n",
    "color={\"Amplitude all\": \"black\", \n",
    "       \"Amplitude 2022\": \"green\",\n",
    "       \"Amplitude 2023\": \"blue\",\n",
    "       \"Phase all\": \"black\", \n",
    "       \"Phase 2022\": \"green\",\n",
    "       \"Phase 2023\": \"blue\"}\n",
    "pd.concat([pd_coefs, pd_coefs_multi], axis = 1).plot(\n",
    "    x=\"constituents\", \n",
    "    y=[\"Amplitude all\"] + [f\"Amplitude {year}\" for year in ta_multi.years], \n",
    "    kind=\"bar\",\n",
    "    color=color)\n",
    "pd.concat([pd_coefs, pd_coefs_multi], axis = 1).plot(\n",
    "    x=\"constituents\", \n",
    "    y=[\"Phase all\"] + [f\"Phase {year}\" for year in ta_multi.years], \n",
    "    kind=\"bar\",\n",
    "    color=color)"
   ]
  }
 ],
 "metadata": {
  "kernelspec": {
   "display_name": ".venv",
   "language": "python",
   "name": "python3"
  },
  "language_info": {
   "codemirror_mode": {
    "name": "ipython",
    "version": 3
   },
   "file_extension": ".py",
   "mimetype": "text/x-python",
   "name": "python",
   "nbconvert_exporter": "python",
   "pygments_lexer": "ipython3",
   "version": "3.12.8"
  }
 },
 "nbformat": 4,
 "nbformat_minor": 5
}
