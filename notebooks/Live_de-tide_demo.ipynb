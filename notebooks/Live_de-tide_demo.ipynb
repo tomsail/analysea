{
 "cells": [
  {
   "cell_type": "markdown",
   "id": "0",
   "metadata": {},
   "source": [
    "# Tide Analysis demonstration for Acapulco tide gauge (IOC)\n",
    "\n",
    "to make this notebook running, you need: the following packages: \n",
    "\n",
    "xarray, pandas, geopandas, ruptures, searvey, utide, cartopy, shapely, matplotlib\n",
    "\n",
    "See [README.md](https://github.com/tomsail/analysea) for more information\n",
    "### imports"
   ]
  },
  {
   "cell_type": "code",
   "execution_count": null,
   "id": "1",
   "metadata": {},
   "outputs": [],
   "source": [
    "import json\n",
    "import matplotlib.pyplot as plt\n",
    "import utide\n",
    "from analysea.utils import average, nd_format, shift_for_maximum_correlation, json_format\n",
    "import pandas as pd\n",
    "import numpy as np\n",
    "\n",
    "%matplotlib widget"
   ]
  },
  {
   "cell_type": "code",
   "execution_count": null,
   "id": "2",
   "metadata": {},
   "outputs": [],
   "source": [
    "from searvey import ioc\n",
    "ioc_stations = ioc.get_ioc_stations()"
   ]
  },
  {
   "cell_type": "markdown",
   "id": "3",
   "metadata": {},
   "source": [
    "## load test case : Acapulco (Mex)\n",
    "\n",
    "but you can also try with the other stations in the data folder !"
   ]
  },
  {
   "cell_type": "code",
   "execution_count": null,
   "id": "4",
   "metadata": {},
   "outputs": [],
   "source": [
    "_ioc_station = \"acap2\" \n",
    "df = ioc.get_ioc_station_data(_ioc_station)\n",
    "df0 = ioc.get_ioc_station_data(_ioc_station)"
   ]
  },
  {
   "cell_type": "code",
   "execution_count": null,
   "id": "5",
   "metadata": {},
   "outputs": [],
   "source": [
    "ioc_stations = ioc.get_ioc_stations()\n",
    "acapulco = ioc_stations.iloc[5]"
   ]
  },
  {
   "cell_type": "code",
   "execution_count": null,
   "id": "6",
   "metadata": {},
   "outputs": [],
   "source": [
    "df0.index = df0['time']\n",
    "df0 = df0.drop('time', axis=1)"
   ]
  },
  {
   "cell_type": "markdown",
   "id": "7",
   "metadata": {},
   "source": [
    "# Medthod 1: Load JSON file containing de-tide information (not working great)"
   ]
  },
  {
   "cell_type": "code",
   "execution_count": null,
   "id": "8",
   "metadata": {},
   "outputs": [],
   "source": [
    "acap_jsonf = '../tests/data/processed/acap2.json'\n",
    "with open(acap_jsonf, 'r') as f:\n",
    "    acap_json = json.load(f)"
   ]
  },
  {
   "cell_type": "code",
   "execution_count": null,
   "id": "9",
   "metadata": {},
   "outputs": [],
   "source": [
    "h=utide.reconstruct(df['time'],nd_format(acap_json))"
   ]
  },
  {
   "cell_type": "code",
   "execution_count": null,
   "id": "10",
   "metadata": {},
   "outputs": [],
   "source": [
    "df0['retide'] = h.h"
   ]
  },
  {
   "cell_type": "markdown",
   "id": "11",
   "metadata": {},
   "source": [
    "### adjust the eventual time and vertical offsets"
   ]
  },
  {
   "cell_type": "code",
   "execution_count": null,
   "id": "12",
   "metadata": {},
   "outputs": [],
   "source": [
    "df0.rad = average(df0.rad)"
   ]
  },
  {
   "cell_type": "code",
   "execution_count": null,
   "id": "13",
   "metadata": {},
   "outputs": [],
   "source": [
    "shifted_x, shifted_y, time = shift_for_maximum_correlation(df0.rad.values,df0.retide.values,df0.index)\n",
    "df1 = pd.DataFrame({'retide': shifted_y, 'raw': shifted_x,'surge': shifted_x - shifted_y},index=time)"
   ]
  },
  {
   "cell_type": "code",
   "execution_count": null,
   "id": "14",
   "metadata": {},
   "outputs": [],
   "source": [
    "fig, ax = plt.subplots()\n",
    "df1.plot(ax=ax)"
   ]
  },
  {
   "cell_type": "markdown",
   "id": "15",
   "metadata": {},
   "source": [
    "## method 2: live detide and reconstruct"
   ]
  },
  {
   "cell_type": "code",
   "execution_count": null,
   "id": "16",
   "metadata": {},
   "outputs": [],
   "source": [
    "opts = {'conf_int': 'linear',\n",
    "        'constit' : 'auto',\n",
    "        'method' : 'ols', # ols is faster and good for missing data (Ponchaut et al., 2001)\n",
    "        'order_constit' : 'frequency',\n",
    "        'Rayleigh_min' : 0.97,\n",
    "        'lat': acapulco.lat,\n",
    "        'verbose' : True,\n",
    "} # careful if there is only one Nan parameter, the analysis crashes"
   ]
  },
  {
   "cell_type": "code",
   "execution_count": null,
   "id": "17",
   "metadata": {},
   "outputs": [],
   "source": [
    "from analysea.tide import tide_analysis"
   ]
  },
  {
   "cell_type": "code",
   "execution_count": null,
   "id": "18",
   "metadata": {},
   "outputs": [],
   "source": [
    "df0 = ioc.get_ioc_station_data(_ioc_station)\n",
    "df0.index = df0['time']\n",
    "df0 = df0.drop('time', axis=1)"
   ]
  },
  {
   "cell_type": "code",
   "execution_count": null,
   "id": "19",
   "metadata": {},
   "outputs": [],
   "source": [
    "df0['tide'],df0['surge'],coef = tide_analysis(df0.rad,opts)"
   ]
  },
  {
   "cell_type": "code",
   "execution_count": null,
   "id": "20",
   "metadata": {},
   "outputs": [],
   "source": [
    "df0.rad = average(df0.rad)"
   ]
  },
  {
   "cell_type": "code",
   "execution_count": null,
   "id": "21",
   "metadata": {},
   "outputs": [],
   "source": [
    "h=utide.reconstruct(df['time'],coef)\n",
    "df0['tide'] = h"
   ]
  },
  {
   "cell_type": "code",
   "execution_count": null,
   "id": "22",
   "metadata": {},
   "outputs": [],
   "source": [
    "fig, ax = plt.subplots(figsize=(10, 10))\n",
    "df0.plot(ax=ax)"
   ]
  },
  {
   "cell_type": "markdown",
   "id": "23",
   "metadata": {},
   "source": [
    "# compare the 2 methods"
   ]
  },
  {
   "cell_type": "code",
   "execution_count": null,
   "id": "24",
   "metadata": {},
   "outputs": [],
   "source": [
    "# main constituents \n",
    "ASTRO_PLOT = [ \"M2\", \"S2\", \"N2\", \"O1\", \"K2\", \"K1\", \"NU2\", \"Q1\", \"L2\", \n",
    "              \"P1\", \"2N2\", \"M4\", \"MS4\", \"MM\", \"MU2\", \"SSA\", \"LDA2\", \"MF\", \"MSM\", \"MN4\"]"
   ]
  },
  {
   "cell_type": "code",
   "execution_count": null,
   "id": "25",
   "metadata": {},
   "outputs": [],
   "source": [
    "coef = json_format(coef)\n",
    "coef['name']"
   ]
  },
  {
   "cell_type": "code",
   "execution_count": null,
   "id": "26",
   "metadata": {},
   "outputs": [],
   "source": [
    "index = []\n",
    "for ast in ASTRO_PLOT : \n",
    "    try :\n",
    "        index.extend([coef['name'].index(ast)])\n",
    "    except ValueError as err: \n",
    "        index.append(float('nan'))\n",
    "        print('[WARN]',err)\n",
    "index"
   ]
  },
  {
   "cell_type": "code",
   "execution_count": null,
   "id": "27",
   "metadata": {},
   "outputs": [],
   "source": [
    "index2 = []\n",
    "acap_json = json_format(acap_json)\n",
    "for ast in ASTRO_PLOT : \n",
    "    try :\n",
    "        index2.extend([acap_json['name'].index(ast)])\n",
    "    except ValueError as err: \n",
    "        index2.append(float('nan'))\n",
    "        print('[WARN]',err)\n",
    "index2"
   ]
  },
  {
   "cell_type": "code",
   "execution_count": null,
   "id": "28",
   "metadata": {},
   "outputs": [],
   "source": [
    "amps_coef = np.zeros(len(ASTRO_PLOT))\n",
    "for i in range(len(ASTRO_PLOT)):\n",
    "    if ~np.isnan(index[i]):\n",
    "        amps_coef[i] = coef['A'][i]\n",
    "    else: \n",
    "        amps_coef[i]= np.nan\n",
    "# \n",
    "amps_json = np.zeros(len(ASTRO_PLOT))\n",
    "for i in range(len(ASTRO_PLOT)):\n",
    "    if ~np.isnan(index2[i]):\n",
    "        amps_json[i] = acap_json['A'][i]\n",
    "    else: \n",
    "        amps_json[i]= np.nan"
   ]
  },
  {
   "cell_type": "code",
   "execution_count": null,
   "id": "29",
   "metadata": {},
   "outputs": [],
   "source": [
    "fig, ax = plt.subplots(figsize=(10, 10))\n",
    "x = np.arange(0, len(ASTRO_PLOT))\n",
    "ax.bar(x - 0.2 , amps_coef, width= 0.4, label='live de-tide')\n",
    "ax.bar(x + 0.2 , amps_json, width= 0.4, label='from JSON')\n",
    "ax.set_xticks(x, ASTRO_PLOT)\n",
    "ax.legend()\n"
   ]
  }
 ],
 "metadata": {
  "kernelspec": {
   "display_name": "Python 3 (ipykernel)",
   "language": "python",
   "name": "python3"
  },
  "language_info": {
   "codemirror_mode": {
    "name": "ipython",
    "version": 3
   },
   "file_extension": ".py",
   "mimetype": "text/x-python",
   "name": "python",
   "nbconvert_exporter": "python",
   "pygments_lexer": "ipython3",
   "version": "3.10.12"
  }
 },
 "nbformat": 4,
 "nbformat_minor": 5
}
